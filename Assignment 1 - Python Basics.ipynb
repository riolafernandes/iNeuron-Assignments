{
 "cells": [
  {
   "cell_type": "markdown",
   "id": "6eb3f0cf",
   "metadata": {},
   "source": [
    "1. In the below elements which of them are values or an expression? eg:- values can be integer or string and expressions will be mathematical operators.\n",
    "\n",
    "Ans:\n",
    "* - expression\n",
    "'hello' - value\n",
    "-87.8 - value\n",
    "- - expression\n",
    "/ - expression\n",
    "+\t- expression\n",
    "6  - value"
   ]
  },
  {
   "cell_type": "markdown",
   "id": "6d6a9a26",
   "metadata": {},
   "source": [
    "2. What is the difference between string and variable?\n",
    "\n",
    "Ans: A variable is where data is stored in Python. Ex: a = 10. Here a is the variable.\n",
    "     A string is a group of characters that can be stored in a variable. They need to be enclosed in quotes ''."
   ]
  },
  {
   "cell_type": "markdown",
   "id": "5a39b0ab",
   "metadata": {},
   "source": [
    "3. Describe three different data types.\n",
    "\n",
    "Ans: Numeric - int ex: x= 5 (whole numbers)\n",
    "             - float ex: x = 3.45 (with decimals)\n",
    "             - complex ex: x = 3 + 6j\n",
    "     String  - x = \"Hello\" or x = \"6.7\"\n",
    "     Boolean - True or False"
   ]
  },
  {
   "cell_type": "markdown",
   "id": "257dac48",
   "metadata": {},
   "source": [
    "4. What is an expression made up of? What do all expressions do?\n",
    "\n",
    "Ans: Expressions are made up of Numbers, Operators and Variable. They could be addition, subtraction and so on. An expression calculates values and gives result.\n",
    "\n",
    "Ex: \n",
    "y = 4 * 3"
   ]
  },
  {
   "cell_type": "markdown",
   "id": "869f1c97",
   "metadata": {},
   "source": [
    "5. This assignment statements, like spam = 10. What is the difference between an expression and a statement?\n",
    "\n",
    "Statements are used for creating variable and to display values. Ex: x = 10\n",
    "Expressions on the other hand are used to evaluate and execute to give results. Ex: x = 4 + 1. \n",
    "                                                                                    Result = 9\n"
   ]
  },
  {
   "cell_type": "markdown",
   "id": "53abda3b",
   "metadata": {},
   "source": [
    "6. After running the following code, what does the variable bacon contain?\n",
    "bacon = 22\n",
    "bacon + 1\n",
    "\n",
    "Ans: 22 as Bacon + 1 is not assigned back to the variable bacon."
   ]
  },
  {
   "cell_type": "markdown",
   "id": "639af272",
   "metadata": {},
   "source": [
    "7. What should the values of the following two terms be?\n",
    "'spam' + 'spamspam'    -   'spamspamspam'\n",
    "'spam' * 3             - 'spamspamspam'"
   ]
  },
  {
   "cell_type": "markdown",
   "id": "fe8146bd",
   "metadata": {},
   "source": [
    "8. Why is eggs a valid variable name while 100 is invalid?\n",
    "\n",
    "Ans: As variable names have rules and cannot begin with a number, eggs is a valid variable name. "
   ]
  },
  {
   "cell_type": "markdown",
   "id": "48b53e33",
   "metadata": {},
   "source": [
    "9. What three functions can be used to get the integer, floating-point number, or string version of a value?\n",
    "\n",
    "int() - Ex: x = int(\"12\"); type(x) results int \n",
    "float() - Ex: x = float(\"12.9\"); type(x) results float \n",
    "str() - Ex: x = str(12344); type(x) results str"
   ]
  },
  {
   "cell_type": "markdown",
   "id": "cbaa92e7",
   "metadata": {},
   "source": [
    "10. Why does this expression cause an error? How can you fix it?\n",
    "'I have eaten ' + 99 + ' burritos.'\n",
    "\n",
    "Ans: As 99 is not enclosed in quotes, it is considered as a number and python cannot concatenate str with a interger. Concatenate only works with strings.\n",
    "By adding quotes around 99 we can print without any error\n",
    "\n",
    "'I have eaten ' + '99' + ' burritos.'\n"
   ]
  },
  {
   "cell_type": "code",
   "execution_count": null,
   "id": "b5c4a40a",
   "metadata": {},
   "outputs": [],
   "source": []
  },
  {
   "cell_type": "code",
   "execution_count": null,
   "id": "5ce8b034",
   "metadata": {},
   "outputs": [],
   "source": []
  },
  {
   "cell_type": "code",
   "execution_count": null,
   "id": "8c17bb29",
   "metadata": {},
   "outputs": [],
   "source": []
  },
  {
   "cell_type": "code",
   "execution_count": null,
   "id": "33286052",
   "metadata": {},
   "outputs": [],
   "source": []
  },
  {
   "cell_type": "code",
   "execution_count": null,
   "id": "55895bc3",
   "metadata": {},
   "outputs": [],
   "source": []
  },
  {
   "cell_type": "code",
   "execution_count": null,
   "id": "3cd74404",
   "metadata": {},
   "outputs": [],
   "source": []
  },
  {
   "cell_type": "code",
   "execution_count": null,
   "id": "74da5ec0",
   "metadata": {},
   "outputs": [],
   "source": []
  },
  {
   "cell_type": "code",
   "execution_count": null,
   "id": "5f164cc7",
   "metadata": {},
   "outputs": [],
   "source": []
  },
  {
   "cell_type": "code",
   "execution_count": null,
   "id": "936cae65",
   "metadata": {},
   "outputs": [],
   "source": []
  }
 ],
 "metadata": {
  "kernelspec": {
   "display_name": "Python 3 (ipykernel)",
   "language": "python",
   "name": "python3"
  },
  "language_info": {
   "codemirror_mode": {
    "name": "ipython",
    "version": 3
   },
   "file_extension": ".py",
   "mimetype": "text/x-python",
   "name": "python",
   "nbconvert_exporter": "python",
   "pygments_lexer": "ipython3",
   "version": "3.9.13"
  }
 },
 "nbformat": 4,
 "nbformat_minor": 5
}
